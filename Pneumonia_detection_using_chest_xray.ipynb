{
  "nbformat": 4,
  "nbformat_minor": 0,
  "metadata": {
    "colab": {
      "name": "Pneumonia detection using chest xray.ipynb",
      "provenance": [],
      "collapsed_sections": []
    },
    "kernelspec": {
      "name": "python3",
      "display_name": "Python 3"
    },
    "accelerator": "GPU"
  },
  "cells": [
    {
      "cell_type": "code",
      "metadata": {
        "id": "P9mH-yze9Jnp"
      },
      "source": [
        "from matplotlib import pyplot as plt\n",
        "from skimage import data\n",
        "from skimage.feature import blob_dog, blob_log, blob_doh\n",
        "from math import sqrt\n",
        "from skimage.color import rgb2gray\n",
        "import glob\n",
        "from skimage.io import imread\n",
        "import os\n",
        "import keras\n",
        "from keras.models import Sequential\n",
        "from keras.layers import Dense, Dropout, Flatten\n",
        "from keras.layers import Conv2D, MaxPooling2D\n",
        "from keras.utils import to_categorical\n",
        "from keras.preprocessing import image\n",
        "import numpy as np\n",
        "import pandas as pd\n",
        "import matplotlib.pyplot as plt\n",
        "from sklearn.model_selection import train_test_split\n",
        "from keras.utils import to_categorical\n",
        "from tqdm import tqdm"
      ],
      "execution_count": null,
      "outputs": []
    },
    {
      "cell_type": "code",
      "metadata": {
        "id": "HMLdMU8DMtot"
      },
      "source": [
        "from google.colab import drive\n",
        "drive.mount('/content/drive')"
      ],
      "execution_count": null,
      "outputs": []
    },
    {
      "cell_type": "code",
      "metadata": {
        "id": "UHI2dCt0Rd1v"
      },
      "source": [
        "!ls \"/content/drive/My Drive/Machine Learning/\"\n",
        "os.chdir('/content/drive/My Drive/Machine Learning/')\n",
        "#!mkdir dataset  #create a directory named train/\n",
        "#!mkdir test  #create a directory named test/\n",
        "#!unzip -q pneumonia-chest-x-ray.zip -d dataset/  #unzip data in train/\n",
        "#!unzip -q test.zip -d test/  #unzip data in test/\n",
        "#!unzip sample_submission.csv.zip\n",
        "#!unzip train_labels.csv.zip"
      ],
      "execution_count": null,
      "outputs": []
    },
    {
      "cell_type": "code",
      "metadata": {
        "id": "EILCsKrbDNyn"
      },
      "source": [
        "os.chdir('dataset/All')\n",
        "g_truth = pd.read_csv('GTruth.csv')\n",
        "print(g_truth)"
      ],
      "execution_count": null,
      "outputs": []
    },
    {
      "cell_type": "code",
      "metadata": {
        "id": "3gX42ZfHe5gT"
      },
      "source": [
        "train_image = []\n",
        "for i in tqdm(range(g_truth.shape[0])):\n",
        "    img = image.load_img(g_truth['Id'][i].astype('str')+'.jpeg', target_size=(224,224,1), grayscale=True)\n",
        "    img = image.img_to_array(img)\n",
        "    img = img/255\n",
        "    train_image.append(img)\n",
        "X = np.array(train_image)"
      ],
      "execution_count": null,
      "outputs": []
    },
    {
      "cell_type": "code",
      "metadata": {
        "id": "sibZZVF2qXru"
      },
      "source": [
        "y = g_truth['Ground_Truth'].values\n",
        "temp = y\n",
        "y = to_categorical(y)\n",
        "np.shape(y)"
      ],
      "execution_count": null,
      "outputs": []
    },
    {
      "cell_type": "code",
      "metadata": {
        "id": "10S-w_KhXmpu"
      },
      "source": [
        "len(temp[temp==1])\n",
        "len(temp[temp==0])"
      ],
      "execution_count": null,
      "outputs": []
    },
    {
      "cell_type": "code",
      "metadata": {
        "id": "MJHt8OYqtqHG"
      },
      "source": [
        "X_train, X_test, y_train, y_test = train_test_split(X, y, random_state=42, test_size=0.2)"
      ],
      "execution_count": null,
      "outputs": []
    },
    {
      "cell_type": "code",
      "metadata": {
        "id": "CLfjQtzXty9l"
      },
      "source": [
        "model = Sequential()\n",
        "model.add(Conv2D(32, kernel_size=(3, 3),activation='relu',input_shape=(224,224,1))) # (28,28,1)\n",
        "model.add(Conv2D(64, (3, 3), activation='relu'))\n",
        "model.add(MaxPooling2D(pool_size=(4, 4))) # (2,2)\n",
        "model.add(Dropout(0.25))\n",
        "model.add(Flatten())\n",
        "model.add(Dense(128, activation='relu')) \n",
        "model.add(Dense(64, activation='relu'))\n",
        "model.add(Dropout(0.5))\n",
        "model.add(Dense(2, activation='softmax'))"
      ],
      "execution_count": null,
      "outputs": []
    },
    {
      "cell_type": "code",
      "metadata": {
        "id": "tyOI_v6UuMoB"
      },
      "source": [
        "model.compile(loss='categorical_crossentropy',optimizer='Adam',metrics=['accuracy'])\n",
        "model.fit(X_train, y_train, epochs=2, validation_data=(X_test, y_test))"
      ],
      "execution_count": null,
      "outputs": []
    }
  ]
}